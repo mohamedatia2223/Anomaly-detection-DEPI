{
  "cells": [
    {
      "cell_type": "code",
      "execution_count": null,
      "metadata": {
        "colab": {
          "base_uri": "https://localhost:8080/"
        },
        "id": "7dTGAhYYM9F_",
        "outputId": "b78d3af4-71ce-4f62-b216-410ddf3940cd"
      },
      "outputs": [
        {
          "name": "stdout",
          "output_type": "stream",
          "text": [
            "Collecting keras-tuner\n",
            "  Downloading keras_tuner-1.4.7-py3-none-any.whl.metadata (5.4 kB)\n",
            "Requirement already satisfied: keras in /usr/local/lib/python3.12/dist-packages (from keras-tuner) (3.10.0)\n",
            "Requirement already satisfied: packaging in /usr/local/lib/python3.12/dist-packages (from keras-tuner) (25.0)\n",
            "Requirement already satisfied: requests in /usr/local/lib/python3.12/dist-packages (from keras-tuner) (2.32.4)\n",
            "Collecting kt-legacy (from keras-tuner)\n",
            "  Downloading kt_legacy-1.0.5-py3-none-any.whl.metadata (221 bytes)\n",
            "Requirement already satisfied: absl-py in /usr/local/lib/python3.12/dist-packages (from keras->keras-tuner) (1.4.0)\n",
            "Requirement already satisfied: numpy in /usr/local/lib/python3.12/dist-packages (from keras->keras-tuner) (2.0.2)\n",
            "Requirement already satisfied: rich in /usr/local/lib/python3.12/dist-packages (from keras->keras-tuner) (13.9.4)\n",
            "Requirement already satisfied: namex in /usr/local/lib/python3.12/dist-packages (from keras->keras-tuner) (0.1.0)\n",
            "Requirement already satisfied: h5py in /usr/local/lib/python3.12/dist-packages (from keras->keras-tuner) (3.14.0)\n",
            "Requirement already satisfied: optree in /usr/local/lib/python3.12/dist-packages (from keras->keras-tuner) (0.17.0)\n",
            "Requirement already satisfied: ml-dtypes in /usr/local/lib/python3.12/dist-packages (from keras->keras-tuner) (0.5.3)\n",
            "Requirement already satisfied: charset_normalizer<4,>=2 in /usr/local/lib/python3.12/dist-packages (from requests->keras-tuner) (3.4.3)\n",
            "Requirement already satisfied: idna<4,>=2.5 in /usr/local/lib/python3.12/dist-packages (from requests->keras-tuner) (3.10)\n",
            "Requirement already satisfied: urllib3<3,>=1.21.1 in /usr/local/lib/python3.12/dist-packages (from requests->keras-tuner) (2.5.0)\n",
            "Requirement already satisfied: certifi>=2017.4.17 in /usr/local/lib/python3.12/dist-packages (from requests->keras-tuner) (2025.8.3)\n",
            "Requirement already satisfied: typing-extensions>=4.6.0 in /usr/local/lib/python3.12/dist-packages (from optree->keras->keras-tuner) (4.15.0)\n",
            "Requirement already satisfied: markdown-it-py>=2.2.0 in /usr/local/lib/python3.12/dist-packages (from rich->keras->keras-tuner) (4.0.0)\n",
            "Requirement already satisfied: pygments<3.0.0,>=2.13.0 in /usr/local/lib/python3.12/dist-packages (from rich->keras->keras-tuner) (2.19.2)\n",
            "Requirement already satisfied: mdurl~=0.1 in /usr/local/lib/python3.12/dist-packages (from markdown-it-py>=2.2.0->rich->keras->keras-tuner) (0.1.2)\n",
            "Downloading keras_tuner-1.4.7-py3-none-any.whl (129 kB)\n",
            "\u001b[2K   \u001b[90m━━━━━━━━━━━━━━━━━━━━━━━━━━━━━━━━━━━━━━━━\u001b[0m \u001b[32m129.1/129.1 kB\u001b[0m \u001b[31m9.0 MB/s\u001b[0m eta \u001b[36m0:00:00\u001b[0m\n",
            "\u001b[?25hDownloading kt_legacy-1.0.5-py3-none-any.whl (9.6 kB)\n",
            "Installing collected packages: kt-legacy, keras-tuner\n",
            "Successfully installed keras-tuner-1.4.7 kt-legacy-1.0.5\n"
          ]
        }
      ],
      "source": [
        "pip install keras-tuner"
      ]
    },
    {
      "cell_type": "code",
      "execution_count": null,
      "metadata": {
        "id": "YB3eNmgoFSlO"
      },
      "outputs": [],
      "source": [
        "import numpy as np\n",
        "import tensorflow as tf\n",
        "from tensorflow import keras\n",
        "from tensorflow.keras import layers, regularizers, callbacks\n",
        "import keras_tuner as kt\n",
        "\n",
        "import warnings\n",
        "warnings.filterwarnings('ignore')"
      ]
    },
    {
      "cell_type": "code",
      "execution_count": null,
      "metadata": {
        "id": "e4b4-1FPMbtF"
      },
      "outputs": [],
      "source": [
        "X_train_scaled = np.load(\"X_train_scaled.npy\")\n",
        "X_all_scaled = np.load(\"X_all_scaled.npy\")\n",
        "y = np.load(\"labels.npy\")\n",
        "input_dim = X_train_scaled.shape[1]"
      ]
    },
    {
      "cell_type": "code",
      "execution_count": null,
      "metadata": {
        "id": "1t8fUEqIMbrl"
      },
      "outputs": [],
      "source": [
        "def build_autoencoder_sequential(hp):\n",
        "    units1 = hp.Int('units1', min_value=64, max_value=512, step=64)\n",
        "    units2 = hp.Int('units2', min_value=32, max_value=256, step=32)\n",
        "    latent = hp.Int('latent', min_value=8, max_value=max(8, input_dim // 4), step=4)\n",
        "    l1_strength = hp.Float('l1', 1e-6, 1e-3, sampling='log')\n",
        "    lr = hp.Float('lr', 1e-4, 1e-2, sampling='log')\n",
        "\n",
        "    model = keras.Sequential([\n",
        "        layers.InputLayer(input_shape=(input_dim,)),\n",
        "        layers.GaussianNoise(0.1),\n",
        "\n",
        "        layers.Dense(units1, activation=None, activity_regularizer=regularizers.l1(l1_strength)),\n",
        "        layers.LeakyReLU(alpha=0.1),\n",
        "\n",
        "        layers.Dense(units2, activation=None, activity_regularizer=regularizers.l1(l1_strength)),\n",
        "        layers.LeakyReLU(alpha=0.1),\n",
        "\n",
        "        layers.Dense(latent, activation=None, activity_regularizer=regularizers.l1(l1_strength), name=\"bottleneck\"),\n",
        "        layers.LeakyReLU(alpha=0.1),\n",
        "\n",
        "        layers.Dense(units2),\n",
        "        layers.LeakyReLU(alpha=0.1),\n",
        "\n",
        "        layers.Dense(units1),\n",
        "        layers.LeakyReLU(alpha=0.1),\n",
        "\n",
        "        layers.Dense(input_dim, activation=\"linear\")\n",
        "    ])\n",
        "\n",
        "    optimizer = keras.optimizers.Adam(learning_rate=lr)\n",
        "    model.compile(optimizer=optimizer, loss=\"mse\")\n",
        "    return model"
      ]
    },
    {
      "cell_type": "code",
      "execution_count": null,
      "metadata": {
        "id": "MXrR2XWdMbqF"
      },
      "outputs": [],
      "source": [
        "tuner = kt.RandomSearch(\n",
        "    build_autoencoder_sequential,\n",
        "    objective=\"val_loss\",\n",
        "    max_trials=10,\n",
        "    directory=\"kt_dir_seq\",\n",
        "    project_name=\"ae_unsw_seq\",\n",
        "    overwrite=True\n",
        ")\n",
        "\n",
        "es = callbacks.EarlyStopping(monitor=\"val_loss\", patience=3, restore_best_weights=True)"
      ]
    },
    {
      "cell_type": "code",
      "execution_count": null,
      "metadata": {
        "colab": {
          "background_save": true,
          "base_uri": "https://localhost:8080/"
        },
        "id": "OQawbP6OMboV",
        "outputId": "a824f7ef-ee03-4490-ec3e-fc51419a6889"
      },
      "outputs": [
        {
          "name": "stdout",
          "output_type": "stream",
          "text": [
            "Trial 10 Complete [00h 00m 45s]\n",
            "val_loss: 0.16518457233905792\n",
            "\n",
            "Best val_loss So Far: 0.11670368909835815\n",
            "Total elapsed time: 00h 08m 31s\n",
            "Best hyperparameters: {'units1': 192, 'units2': 224, 'latent': 8, 'l1': 1.5090582916190937e-06, 'lr': 0.0023949500544728688}\n"
          ]
        }
      ],
      "source": [
        "print(\"Starting hyperparameter search...\")\n",
        "tuner.search(\n",
        "    X_train_scaled, X_train_scaled,\n",
        "    epochs=30,\n",
        "    batch_size=128,\n",
        "    validation_split=0.2,\n",
        "    callbacks=[es],\n",
        "    verbose=2\n",
        ")\n",
        "\n",
        "best_hps = tuner.get_best_hyperparameters(1)[0]\n",
        "print(\"Best hyperparameters:\", best_hps.values)"
      ]
    },
    {
      "cell_type": "code",
      "execution_count": null,
      "metadata": {
        "id": "1i0PMAN2MblW"
      },
      "outputs": [],
      "source": [
        "model = tuner.hypermodel.build(best_hps)\n",
        "\n",
        "history = model.fit(\n",
        "    X_train_scaled, X_train_scaled,\n",
        "    epochs=100,\n",
        "    batch_size=128,\n",
        "    validation_split=0.2,\n",
        "    callbacks=[callbacks.EarlyStopping(monitor=\"val_loss\", patience=7, restore_best_weights=True)],\n",
        "    verbose=2\n",
        ")\n"
      ]
    },
    {
      "cell_type": "code",
      "execution_count": null,
      "metadata": {
        "id": "K_7Z06f5NEw-"
      },
      "outputs": [],
      "source": [
        "train_recon = model.predict(X_train_scaled, verbose=0)\n",
        "train_mse = ((train_recon - X_train_scaled) ** 2).mean(axis=1)\n",
        "threshold = np.percentile(train_mse, 95)\n"
      ]
    },
    {
      "cell_type": "code",
      "execution_count": null,
      "metadata": {
        "id": "jLgIRS_5OTRA"
      },
      "outputs": [],
      "source": [
        "model.save(\"models/autoencoder_model.h5\")\n",
        "np.save(\"data/threshold.npy\", threshold)\n",
        "\n",
        "print(f\"Model + threshold saved. Threshold = {threshold:.4f}\")"
      ]
    }
  ],
  "metadata": {
    "colab": {
      "provenance": []
    },
    "kernelspec": {
      "display_name": "Python 3",
      "name": "python3"
    },
    "language_info": {
      "name": "python"
    }
  },
  "nbformat": 4,
  "nbformat_minor": 0
}