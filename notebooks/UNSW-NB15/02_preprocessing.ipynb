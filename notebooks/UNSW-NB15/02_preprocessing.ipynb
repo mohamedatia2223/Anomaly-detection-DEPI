{
  "nbformat": 4,
  "nbformat_minor": 0,
  "metadata": {
    "colab": {
      "provenance": []
    },
    "kernelspec": {
      "name": "python3",
      "display_name": "Python 3"
    },
    "language_info": {
      "name": "python"
    }
  },
  "cells": [
    {
      "cell_type": "code",
      "execution_count": 28,
      "metadata": {
        "id": "YB3eNmgoFSlO"
      },
      "outputs": [],
      "source": [
        "import numpy as np\n",
        "import pandas as pd\n",
        "from sklearn.preprocessing import OneHotEncoder,StandardScaler\n",
        "\n",
        "\n",
        "import warnings\n",
        "warnings.filterwarnings('ignore')"
      ]
    },
    {
      "cell_type": "code",
      "source": [
        "df = pd.read_csv(\"/content/UNSW_NB15_training-set.csv\")\n",
        "y = df['label'].values\n"
      ],
      "metadata": {
        "id": "5QGan8G4F7am"
      },
      "execution_count": 29,
      "outputs": []
    },
    {
      "cell_type": "code",
      "source": [
        "features_to_encode = ['proto', 'state', 'service']\n",
        "df_encoded = pd.get_dummies(df, columns=features_to_encode, prefix=features_to_encode)\n",
        "df = df_encoded.drop(columns=['label', 'id'], axis=1)"
      ],
      "metadata": {
        "id": "1CvNi1xLLBfW"
      },
      "execution_count": 30,
      "outputs": []
    },
    {
      "cell_type": "code",
      "source": [
        "num_cols = df.select_dtypes(include=['number']).columns.tolist()\n",
        "X = df[num_cols].copy()"
      ],
      "metadata": {
        "id": "v6qfSsV1LBde"
      },
      "execution_count": 31,
      "outputs": []
    },
    {
      "cell_type": "code",
      "source": [
        "if X.isnull().sum().sum() > 0:\n",
        "    X = X.fillna(X.mean())\n",
        "X_train_unsup = X[y == 0].copy()\n"
      ],
      "metadata": {
        "id": "XurdRcQrLO4O"
      },
      "execution_count": 32,
      "outputs": []
    },
    {
      "cell_type": "code",
      "source": [
        "scaler = StandardScaler()\n",
        "X_train_scaled = scaler.fit_transform(X_train_unsup)\n",
        "X_all_scaled = scaler.transform(X.values)"
      ],
      "metadata": {
        "id": "VrPPDx-2LO2V"
      },
      "execution_count": 33,
      "outputs": []
    },
    {
      "cell_type": "code",
      "source": [
        "np.save(\"X_train_scaled.npy\", X_train_scaled)\n",
        "np.save(\"X_all_scaled.npy\", X_all_scaled)\n",
        "np.save(\"labels.npy\", y)\n",
        "joblib.dump(scaler, \"scaler.pkl\")\n",
        "print(\"Preprocessing done. Shapes:\")\n",
        "print(\"X_train_scaled:\", X_train_scaled.shape)\n",
        "print(\"X_all_scaled:\", X_all_scaled.shape)\n"
      ],
      "metadata": {
        "colab": {
          "base_uri": "https://localhost:8080/"
        },
        "id": "F45gIK19LaTV",
        "outputId": "88b63714-f380-4feb-ff61-bef50932e6ba"
      },
      "execution_count": 35,
      "outputs": [
        {
          "output_type": "stream",
          "name": "stdout",
          "text": [
            "Preprocessing done. Shapes:\n",
            "X_train_scaled: (37000, 39)\n",
            "X_all_scaled: (82332, 39)\n"
          ]
        }
      ]
    }
  ]
}